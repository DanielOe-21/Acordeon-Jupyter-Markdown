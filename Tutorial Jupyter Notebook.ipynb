{
 "cells": [
  {
   "cell_type": "markdown",
   "metadata": {},
   "source": [
    "# Tutorial de Jupyter Notebook\n",
    "\n",
    "Por: Daniel Ortíz"
   ]
  },
  {
   "cell_type": "markdown",
   "metadata": {},
   "source": [
    "## Jupyter Notebook...\n",
    "\n",
    "Se ejecuta desde un programa web en la ventana de cualquier navegador, se puede instalar individualmente pero viene incluido en Anaconda.\n",
    "\n",
    "Proporciona un entorno pensado para satisfacer necesidades concretas y ajustarse al flujo de trabajo de la ciencia de datos y la simulación numérica.\n",
    "\n",
    "En una sola interfaz es posible escribir, documentar y ejecutar código, visualizar datos, realizar cálculos y ver los resultados.\n",
    "\n",
    "El código se organiza en celdas independientes, es posible probar bloques concretos de código de forma individual.\n",
    "\n",
    "Gracias a que existen muchos kernels adicionales, Jupyter no se limita al lenguaje de programación Python, lo que aporta muchísima flexibilidad a la hora de crear código y de hacer análisis (C++, R, Julia, Ruby, JavaScript, CoffeeScript, PHP o Java).\n",
    "\n",
    "Algunos de los principales usos que se da a Jupyter Notebook:\n",
    "\n",
    "- Depuración: Distinguir entre los datos que son importantes y los que no lo son al ejecutar un análisis de big data.\n",
    "- Modelización estadística: Método matemático para estimar la probabilidad de distribución de una característica concreta.\n",
    "- Creación y entrenamiento de modelos de aprendizaje automático: Diseño, programación y entrenamiento de modelos basados en aprendizaje automático\n",
    "- Visualización de datos: Representación gráfica de datos para visualizar con claridad patrones, tendencias, interdependencias, etc."
   ]
  },
  {
   "cell_type": "markdown",
   "metadata": {},
   "source": [
    "### Formas de crear un ambiente virtual\n",
    "\n",
    "``conda create -n dci`` Para crear un nuevo entorno virtual   \n",
    " \n",
    "``conda env list`` Para ver un listado de los ambientes que hemos creado\n",
    "``conda info --envs`` \n",
    "\n",
    "``conda activate dci`` Para activar el entorno virtual\n",
    "\n",
    "``conda deactivate`` Para desactivar el entorno virtual\n",
    "\n",
    "``conda env remove -n prueba`` Borrar el entorno virtual\n",
    "\n",
    "``conda remove --name prueba --all`` Borrar ambientes"
   ]
  },
  {
   "cell_type": "markdown",
   "metadata": {},
   "source": [
    "## Ejecutar código\n",
    "\n",
    "Para ejecutar código en una celda de Jupyter, se debe posicionar en la celda correspondiente y con el teclado:\n",
    "\n",
    "1. SHIFT-ENTER para ejecutar una celda e ir a la siguiente celda\n",
    "2. CTRL-ENTER ejecutar una celda pero mantenerse en la misma celda\n",
    "3. ALT-ENTER para ejecutar una celda e insertar una nueva celda\n",
    "4. Click en botón \"Help>Keyboard shortcuts\" para conocer más instrucciones"
   ]
  },
  {
   "cell_type": "code",
   "execution_count": 16,
   "metadata": {},
   "outputs": [],
   "source": [
    "mi_string='¡Hola mundo!' "
   ]
  },
  {
   "cell_type": "code",
   "execution_count": 17,
   "metadata": {},
   "outputs": [],
   "source": [
    "the_end = '¿De dónde salió esto?'"
   ]
  },
  {
   "cell_type": "code",
   "execution_count": 18,
   "metadata": {},
   "outputs": [
    {
     "name": "stdout",
     "output_type": "stream",
     "text": [
      "Ejecuta esta celda\n"
     ]
    }
   ],
   "source": [
    "print('Ejecuta esta celda')"
   ]
  },
  {
   "cell_type": "code",
   "execution_count": 19,
   "metadata": {},
   "outputs": [
    {
     "name": "stdout",
     "output_type": "stream",
     "text": [
      "¡Hola mundo!\n"
     ]
    }
   ],
   "source": [
    "print(mi_string)"
   ]
  },
  {
   "cell_type": "code",
   "execution_count": 20,
   "metadata": {},
   "outputs": [
    {
     "name": "stdout",
     "output_type": "stream",
     "text": [
      "¡Hola mundo!\n"
     ]
    }
   ],
   "source": [
    "print (mi_string)"
   ]
  },
  {
   "cell_type": "markdown",
   "metadata": {},
   "source": [
    "## Creación de textos y anotaciones\n",
    "\n",
    "Los textos como éste son posibles en Jupyter gracias al lenguaje de marcado simplificado \"Markdown\"\n",
    "\n",
    "Al igual que HTML o LaTeX, Markdown es un **lenguaje de marcado**, pero pretende ofrecer la máxima facilidad de lectura al usuario.\n",
    "\n",
    "### Títulos y subtítulos\n",
    "\n",
    "Para la creación de Títulos y Subtítulos, se utiliza el símbolo ``#`` al inicio de la línea, seguido de un espacio en blanco. Podemos hacer distinción de Niveles (hasta 6) en los encabezados poniendo varios ``##`` seguidos. Aquí un ejemplo:\n",
    "\n",
    "``` # Este es un título nivel 1```\n",
    "# Este es un título nivel 1\n",
    "Párrafo\n",
    "\n",
    "``` ## Título del nivel 2 ```\n",
    "## Este es un título nivel 2\n",
    "Párrafo\n",
    "### Este es un título nivel 3\n",
    "Párrafo del nivel 3\n",
    "#### Este es un título nivel 4\n",
    "Párrafo del nivel 4\n",
    "\n",
    "Otra manera de poner encabezados de Nivel 1 y 2, es con ``=`` para nivel 1 y ``-`` para nivel 2 abajo de cada texto, por ejemplo:\n",
    "\n",
    "```\n",
    "Encabezado Nivel 1\n",
    "=====\n",
    "```\n",
    "```\n",
    "Encabezado Nivel 2\n",
    "---\n",
    "``` "
   ]
  },
  {
   "cell_type": "markdown",
   "metadata": {},
   "source": [
    "### Titulo principal"
   ]
  },
  {
   "cell_type": "markdown",
   "metadata": {},
   "source": [
    "### Negritas, cursivas, tachado\n",
    "\n",
    "Para marcar con **negritas** un texto, basta con usar dos ``*`` al inicio y al final del texto a resaltar, para las cursivas sólo se requiere uno al inicio y uno al final, para tachar un texto se usa ``~``.\n",
    "\n",
    "``*Texto en cursiva*`` *Texto en cursiva\n",
    "\n",
    "``_Texto en cursiva_`` _Texto en cursiva_\n",
    "\n",
    "``**Texto en negrita**`` **Texto en negrita**\n",
    "\n",
    "``__Texto en negrita__`` __Texto en negrita__\n",
    "\n",
    "``***Texto en cursiva y negrita***`` ***Texto en cursiva y negrita***\n",
    "\n",
    "``___Texto en cursiva y negrita___`` ___Texto en cursiva y negrita___\n",
    "\n",
    "``~~Este texto está tachado.~~`` ~~Este texto está tachado.~~\n",
    "\n",
    "### Citas de frases\n",
    "\n",
    "Para marcar un fragmento de texto como una cita, se utiliza el signo de mayor que (>). Tienes dos opciones: marcar cada línea individual con este carácter o insertar únicamente uno al principio del párrafo de la cita sangrada y marcar el fin de la cita introduciendo una línea en blanco. La cita en bloque, a su vez, puede ser formateada con otros elementos.\n",
    "\n",
    "\n",
    "`` >Este es un **fragmento citado**.`` \n",
    "\n",
    "`` >Este fragmento continúa``\n",
    "\n",
    ">Este es un **fragmento citado**.\n",
    ">Este fragmento continúa\n",
    "\n",
    "`` >Este es otro **fragmento citado**.``\n",
    "\n",
    "`` Este fragmento continúa.``\n",
    "\n",
    "``(Línea en blanco)`` \n",
    "\n",
    "``Esta línea ya no está citada.``\n",
    "\n",
    "\n",
    ">Este es otro **fragmento citado**.\n",
    "Este fragmento continúa.\n",
    "\n",
    "Esta línea ya no está citada.\n",
    "\n",
    "- Se pueden anidar citas con doble (>>)\n",
    "```\n",
    ">Esta es una cita\n",
    ">> Esta es una cita dentro de otra cita\n",
    "```\n",
    "\n",
    ">Esta es una cita\n",
    ">> Esta es una cita dentro de otra cita\n"
   ]
  },
  {
   "cell_type": "markdown",
   "metadata": {},
   "source": [
    "### Enlistar elementos\n",
    "\n",
    "Para hacer listas sin un orden específico, se pueden utilizar `*`, `-` o `+`."
   ]
  },
  {
   "cell_type": "markdown",
   "metadata": {},
   "source": [
    "- Elemento de lista 1\n",
    "* Elemento de lista 2\n",
    "+ Elemento de lista 3"
   ]
  },
  {
   "cell_type": "markdown",
   "metadata": {},
   "source": [
    "Se pueden hacer listas anidadas con un ``Tab``:"
   ]
  },
  {
   "cell_type": "markdown",
   "metadata": {},
   "source": [
    "- Elemento de lista 1\n",
    "    * Elemento de lista 2\n",
    "        + Elemento de lista 3"
   ]
  },
  {
   "cell_type": "markdown",
   "metadata": {},
   "source": [
    "También se pueden hacer listas enumeradas, poniendo al inicio el número del elemento. `1.`"
   ]
  },
  {
   "cell_type": "markdown",
   "metadata": {},
   "source": [
    "1. Elemento de lista 1\n",
    "2. Elemento de lista 2\n",
    "    - Elemento de lista 3\n",
    "    - Elemento de lista 4\n",
    "        1. Elemento de lista 5\n",
    "        2. Elemento de lista 6"
   ]
  },
  {
   "cell_type": "markdown",
   "metadata": {},
   "source": [
    "### Bloques de código\n",
    "\n",
    "Se crean utilizando ``~`` o `` ``` `` el inicio y final del bloque."
   ]
  },
  {
   "cell_type": "markdown",
   "metadata": {},
   "source": [
    "~~~\n",
    "Creando códigos de bloque.\n",
    "Puedes añadir tantas líneas y párrafos como quieras.  \n",
    "~~~"
   ]
  },
  {
   "cell_type": "markdown",
   "metadata": {},
   "source": [
    "También puede tomar los colores de algún lenguaje de programación como python:"
   ]
  },
  {
   "cell_type": "markdown",
   "metadata": {},
   "source": [
    "```python\n",
    "print (\"Hello World\")\n",
    "a = b+c \n",
    "```"
   ]
  },
  {
   "cell_type": "markdown",
   "metadata": {},
   "source": [
    "Para insertar código dentro de una línea, debes usar ``Estas comillas`` ``print (\"Hello World\")``"
   ]
  },
  {
   "cell_type": "markdown",
   "metadata": {},
   "source": [
    "### Ecuaciones de LaTex\n",
    "\n",
    "Se pueden añadir expresiones matemáticas con LaTex dentro de los párrafos, utilizando ``$``, por ejemplo ``$e^{i\\pi} + 1 = 0$`` muestra $e^{i\\pi} + 1 = 0$.\n",
    "\n",
    "Expresiones en su propia línea se pueden generar con `` \\begin{equation} & \\end{equation} ``"
   ]
  },
  {
   "cell_type": "markdown",
   "metadata": {},
   "source": [
    "\\begin{equation}\n",
    "e^x=\\sum_{i=0}^\\infty \\frac{1}{i!}x^i\n",
    "\\end{equation}"
   ]
  },
  {
   "cell_type": "markdown",
   "metadata": {},
   "source": [
    "\\begin{align}\n",
    "\\mathrm{MA}_n = \\frac{x_{n + \\frac{m}{2}} + x_{n + \\frac{m}{2} - 1} + x_{n + \\frac{m}{2} - 2} .... + x_n + x_{n-1} .... + x_{n - \\frac{m}{2} +2} - x_{n + \\frac{m}{2} + 1} }{m}\n",
    "\\end{align}"
   ]
  },
  {
   "cell_type": "markdown",
   "metadata": {},
   "source": [
    "### Lineas horizontales\n",
    "\n",
    "Se utilizan para separar secciones de una manera visual. Para crearlas, en una línea en blanco deberás incluir tres de los siguientes elementos: ``*``, ``-`` o ``_``."
   ]
  },
  {
   "cell_type": "markdown",
   "metadata": {},
   "source": [
    "Este es un texto de ejemplo\n",
    "\n",
    "***********\n",
    "-----------\n",
    "Inserta división"
   ]
  },
  {
   "cell_type": "markdown",
   "metadata": {},
   "source": [
    "### Hipervínculos\n",
    "\n",
    "Se crean escribiendo la palabra o texto enlazada entre ``[]``, y el link en cuestión entre ``()``."
   ]
  },
  {
   "cell_type": "markdown",
   "metadata": {},
   "source": [
    "[FanPage de Facebook](http://www.facebook.com/DanielEsquivelMx)"
   ]
  },
  {
   "cell_type": "markdown",
   "metadata": {},
   "source": [
    "Si el texto es demasiado largo, puedes usar referencias para los links:\n",
    "\n",
    "``[nombre que quieres darle a tu enlace][nombre de tu referencia]``\n",
    "\n",
    "Y en otra parte del documento se puede poner la referencia:\n",
    "\n",
    "``[nombre de tu referencia]: http:www.tuenlace.com``"
   ]
  },
  {
   "cell_type": "markdown",
   "metadata": {},
   "source": [
    "Me llamo Daniel Esquivel y tengo un blog sobre [Ayuda a la comunidad][FB].\n",
    "\n",
    "En dicha [Fanpage][FB] recopilo artículos sobre todo lo relacionado con automatización, gestión y eficiencia.\n",
    "\n",
    "[FB]: http://www.facebook.com/DanielEsquivelMx/\n",
    "\n",
    "La referencia ``[FB]`` puede estar incluida en cualquier parte del documento, así puedes organizarte mejor y de una manera más limpia, recopilando todas tus referencias en un mismo lugar."
   ]
  },
  {
   "cell_type": "markdown",
   "metadata": {},
   "source": [
    "### Imágenes\n",
    "\n",
    "Prácticamente es igual que insertar links, sólo al inicio se debe utilizar el signo ``!``, seguido de un texto alternativo entre corchetes, seguido a su vez por el URL de la imagen y un título opcional entre comillas."
   ]
  },
  {
   "cell_type": "markdown",
   "metadata": {},
   "source": [
    "![Logo de Python](https://upload.wikimedia.org/wikipedia/commons/thumb/c/c3/Python-logo-notext.svg/110px-Python-logo-notext.svg.png \"Logo\")"
   ]
  },
  {
   "cell_type": "markdown",
   "metadata": {},
   "source": [
    "### Tablas\n",
    "\n",
    "Se pueden incluir tablas de la siguiente manera"
   ]
  },
  {
   "cell_type": "markdown",
   "metadata": {},
   "source": [
    "| Encabezado 1 | Encabezado 2 | Encabezado 3 |\n",
    "| --------- | --------- | --------- |\n",
    "| renglón 1, columna 1 | renglón 1, columna 2 | renglón 1, columna 3|\n",
    "| renglón 2, columna 1 | renglón 2, columna 2 | renglón 2, columna 3|\n",
    "| renglón 3, columna 1 | renglón 3, columna 2 | renglón 3, columna 3|"
   ]
  },
  {
   "cell_type": "markdown",
   "metadata": {},
   "source": [
    "Para especificar la alineación del contenido de cada columna se pueden agregar dos puntos `:` al renglón de los encabezados como sigue:"
   ]
  },
  {
   "cell_type": "markdown",
   "metadata": {},
   "source": [
    "| Alineado-izquierda | Centrado | Alineado-derecha |\n",
    "| :-------- | :-------: | --------: |\n",
    "| Manzanas | rojo | 5000 |\n",
    "| Plátanos | amarillo | 75 |"
   ]
  },
  {
   "cell_type": "markdown",
   "metadata": {},
   "source": [
    "# Manos al código!"
   ]
  },
  {
   "cell_type": "code",
   "execution_count": 21,
   "metadata": {},
   "outputs": [],
   "source": [
    "import numpy as np\n",
    "import pandas as pd\n",
    "import matplotlib.pyplot as plt\n",
    "import yfinance as yf\n",
    "pd.core.common.is_list_like = pd.api.types.is_list_like\n",
    "from pandas_datareader import data as pdr\n",
    "from datetime import datetime\n",
    "from sklearn.linear_model import LinearRegression\n",
    "pd.plotting.register_matplotlib_converters()\n",
    "yf.pdr_override()"
   ]
  },
  {
   "cell_type": "code",
   "execution_count": 22,
   "metadata": {},
   "outputs": [],
   "source": [
    "assets = [\"FB\"]\n",
    "start_date = \"2013-01-01\"\n",
    "end_date = \"2021-01-01\""
   ]
  },
  {
   "cell_type": "code",
   "execution_count": 23,
   "metadata": {},
   "outputs": [
    {
     "name": "stdout",
     "output_type": "stream",
     "text": [
      "[*********************100%***********************]  1 of 1 completed\n"
     ]
    }
   ],
   "source": [
    "df=pd.DataFrame()\n",
    "for asset in assets:\n",
    "    df_asset = pdr.get_data_yahoo(asset, start=start_date, end=end_date)[\"Adj Close\"]#El activo se conecta a Yahoo y hace lectura\n",
    "    df_asset = df_asset.to_frame(name=asset) #Descarga la información\n",
    "    df = pd.concat([df, df_asset], axis=1, sort=False) #al data frame se le agrega el nuevo activo"
   ]
  },
  {
   "cell_type": "code",
   "execution_count": 24,
   "metadata": {},
   "outputs": [
    {
     "data": {
      "text/html": [
       "<div>\n",
       "<style scoped>\n",
       "    .dataframe tbody tr th:only-of-type {\n",
       "        vertical-align: middle;\n",
       "    }\n",
       "\n",
       "    .dataframe tbody tr th {\n",
       "        vertical-align: top;\n",
       "    }\n",
       "\n",
       "    .dataframe thead th {\n",
       "        text-align: right;\n",
       "    }\n",
       "</style>\n",
       "<table border=\"1\" class=\"dataframe\">\n",
       "  <thead>\n",
       "    <tr style=\"text-align: right;\">\n",
       "      <th></th>\n",
       "      <th>FB</th>\n",
       "    </tr>\n",
       "    <tr>\n",
       "      <th>Date</th>\n",
       "      <th></th>\n",
       "    </tr>\n",
       "  </thead>\n",
       "  <tbody>\n",
       "    <tr>\n",
       "      <th>2013-01-02</th>\n",
       "      <td>28.000000</td>\n",
       "    </tr>\n",
       "    <tr>\n",
       "      <th>2013-01-03</th>\n",
       "      <td>27.770000</td>\n",
       "    </tr>\n",
       "    <tr>\n",
       "      <th>2013-01-04</th>\n",
       "      <td>28.760000</td>\n",
       "    </tr>\n",
       "    <tr>\n",
       "      <th>2013-01-07</th>\n",
       "      <td>29.420000</td>\n",
       "    </tr>\n",
       "    <tr>\n",
       "      <th>2013-01-08</th>\n",
       "      <td>29.059999</td>\n",
       "    </tr>\n",
       "  </tbody>\n",
       "</table>\n",
       "</div>"
      ],
      "text/plain": [
       "                   FB\n",
       "Date                 \n",
       "2013-01-02  28.000000\n",
       "2013-01-03  27.770000\n",
       "2013-01-04  28.760000\n",
       "2013-01-07  29.420000\n",
       "2013-01-08  29.059999"
      ]
     },
     "execution_count": 24,
     "metadata": {},
     "output_type": "execute_result"
    }
   ],
   "source": [
    "df.head()"
   ]
  },
  {
   "cell_type": "markdown",
   "metadata": {},
   "source": [
    "Puedo alternar y no pasa nada "
   ]
  },
  {
   "cell_type": "code",
   "execution_count": 25,
   "metadata": {},
   "outputs": [
    {
     "data": {
      "text/html": [
       "<div>\n",
       "<style scoped>\n",
       "    .dataframe tbody tr th:only-of-type {\n",
       "        vertical-align: middle;\n",
       "    }\n",
       "\n",
       "    .dataframe tbody tr th {\n",
       "        vertical-align: top;\n",
       "    }\n",
       "\n",
       "    .dataframe thead th {\n",
       "        text-align: right;\n",
       "    }\n",
       "</style>\n",
       "<table border=\"1\" class=\"dataframe\">\n",
       "  <thead>\n",
       "    <tr style=\"text-align: right;\">\n",
       "      <th></th>\n",
       "      <th>date</th>\n",
       "      <th>FB</th>\n",
       "    </tr>\n",
       "  </thead>\n",
       "  <tbody>\n",
       "    <tr>\n",
       "      <th>0</th>\n",
       "      <td>2013-01-02</td>\n",
       "      <td>28.000000</td>\n",
       "    </tr>\n",
       "    <tr>\n",
       "      <th>1</th>\n",
       "      <td>2013-01-03</td>\n",
       "      <td>27.770000</td>\n",
       "    </tr>\n",
       "    <tr>\n",
       "      <th>2</th>\n",
       "      <td>2013-01-04</td>\n",
       "      <td>28.760000</td>\n",
       "    </tr>\n",
       "    <tr>\n",
       "      <th>3</th>\n",
       "      <td>2013-01-07</td>\n",
       "      <td>29.420000</td>\n",
       "    </tr>\n",
       "    <tr>\n",
       "      <th>4</th>\n",
       "      <td>2013-01-08</td>\n",
       "      <td>29.059999</td>\n",
       "    </tr>\n",
       "  </tbody>\n",
       "</table>\n",
       "</div>"
      ],
      "text/plain": [
       "        date         FB\n",
       "0 2013-01-02  28.000000\n",
       "1 2013-01-03  27.770000\n",
       "2 2013-01-04  28.760000\n",
       "3 2013-01-07  29.420000\n",
       "4 2013-01-08  29.059999"
      ]
     },
     "execution_count": 25,
     "metadata": {},
     "output_type": "execute_result"
    }
   ],
   "source": [
    "# Puedo alternar\n",
    "df.reset_index(inplace = True)\n",
    "df.rename(columns = {'index': 'date','Date':'date'}, inplace = True)\n",
    "df.head()"
   ]
  },
  {
   "cell_type": "code",
   "execution_count": 26,
   "metadata": {},
   "outputs": [
    {
     "name": "stdout",
     "output_type": "stream",
     "text": [
      "<class 'pandas.core.frame.DataFrame'>\n",
      "RangeIndex: 2015 entries, 0 to 2014\n",
      "Data columns (total 2 columns):\n",
      " #   Column  Non-Null Count  Dtype         \n",
      "---  ------  --------------  -----         \n",
      " 0   date    2015 non-null   datetime64[ns]\n",
      " 1   FB      2015 non-null   float64       \n",
      "dtypes: datetime64[ns](1), float64(1)\n",
      "memory usage: 31.6 KB\n"
     ]
    }
   ],
   "source": [
    "df.info()"
   ]
  },
  {
   "cell_type": "code",
   "execution_count": 27,
   "metadata": {},
   "outputs": [
    {
     "data": {
      "image/png": "[encoded data removed]",
      "text/plain": [
       "<Figure size 432x288 with 1 Axes>"
      ]
     },
     "metadata": {
      "needs_background": "light"
     },
     "output_type": "display_data"
    }
   ],
   "source": [
    "#Visualización\n",
    "plt.plot(df['date'], df['FB'])\n",
    "plt.title(\"Precio de cierre de FB. \")\n",
    "plt.ylabel(\"Precio\")\n",
    "plt.xlabel(\"Fecha\")\n",
    "plt.show()"
   ]
  },
  {
   "cell_type": "code",
   "execution_count": 28,
   "metadata": {},
   "outputs": [
    {
     "data": {
      "image/png": "[encoded data removed]",
      "text/plain": [
       "<Figure size 432x288 with 1 Axes>"
      ]
     },
     "metadata": {
      "needs_background": "light"
     },
     "output_type": "display_data"
    }
   ],
   "source": [
    "#Vamos a observar como se ve el promedio de nuestros datos\n",
    "plt.plot(df['date'], df['FB'], label = 'Stock Price')\n",
    "plt.plot([min(df.date), max(df.date)], [df['FB'].mean(), df.iloc[:,1].mean()], label = 'Level')\n",
    "plt.xlim([min(df.date), max(df.date)])\n",
    "plt.title(\"Precio de acción con nivel.\")\n",
    "plt.ylabel(\"Precio\")\n",
    "plt.xlabel(\"Fecha\")\n",
    "plt.legend()\n",
    "plt.savefig(\"Precio con promedio.jpg\")\n",
    "plt.show()"
   ]
  },
  {
   "cell_type": "code",
   "execution_count": 29,
   "metadata": {},
   "outputs": [
    {
     "data": {
      "text/plain": [
       "'¿De dónde salió esto?'"
      ]
     },
     "execution_count": 29,
     "metadata": {},
     "output_type": "execute_result"
    }
   ],
   "source": [
    "the_end"
   ]
  },
  {
   "cell_type": "markdown",
   "metadata": {},
   "source": [
    "# FIN"
   ]
  }
 ],
 "metadata": {
  "kernelspec": {
   "display_name": "Python 3",
   "language": "python",
   "name": "python3"
  },
  "language_info": {
   "codemirror_mode": {
    "name": "ipython",
    "version": 3
   },
   "file_extension": ".py",
   "mimetype": "text/x-python",
   "name": "python",
   "nbconvert_exporter": "python",
   "pygments_lexer": "ipython3",
   "version": "3.9.7"
  }
 },
 "nbformat": 4,
 "nbformat_minor": 4
}
